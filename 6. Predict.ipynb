{
 "cells": [
  {
   "cell_type": "code",
   "execution_count": null,
   "id": "a2ac80db",
   "metadata": {},
   "outputs": [],
   "source": [
    "import pandas as pd\n",
    "import numpy as np\n",
    "from pathlib import Path\n",
    "import joblib\n",
    "\n",
    "\n",
    "# PATH SETUP\n",
    "FEATURES_DIR = Path(\"features\")\n",
    "MODELS_DIR = Path(\"models/baseline\")"
   ]
  },
  {
   "cell_type": "code",
   "execution_count": null,
   "id": "5fcf12d6",
   "metadata": {},
   "outputs": [],
   "source": [
    "# LOAD MODEL AND ENCODER\n",
    "lgbm = joblib.load(MODELS_DIR / \"lgbm_final_model.pkl\")\n",
    "label_encoder = joblib.load(MODELS_DIR / \"label_encoder.pkl\")\n"
   ]
  },
  {
   "cell_type": "code",
   "execution_count": null,
   "id": "b49a982d",
   "metadata": {},
   "outputs": [],
   "source": [
    "# LOAD NEW DATA TO PREDICT\n",
    "X_new = pd.read_pickle(FEATURES_DIR / \"X_new_features.pkl\")\n",
    "X_new = X_new.replace([np.inf, -np.inf], np.nan).fillna(0)\n"
   ]
  },
  {
   "cell_type": "code",
   "execution_count": null,
   "id": "c505c6f8",
   "metadata": {},
   "outputs": [],
   "source": [
    "# PREDICTION\n",
    "pred_labels_num = lgbm.predict(X_new)\n",
    "pred_labels = label_encoder.inverse_transform(pred_labels_num)"
   ]
  },
  {
   "cell_type": "code",
   "execution_count": null,
   "id": "51ec3e26",
   "metadata": {},
   "outputs": [],
   "source": [
    "# SAVE PREDICTIONS\n",
    "pred_df = pd.DataFrame({'prediction': pred_labels})\n",
    "pred_df.to_csv(MODELS_DIR / \"predictions.csv\", index=False)\n",
    "\n",
    "\n",
    "print(f\"Predictions saved at: {MODELS_DIR / 'predictions.csv'}\")\n",
    "print(\"Prediction complete.\")"
   ]
  }
 ],
 "metadata": {
  "language_info": {
   "name": "python"
  }
 },
 "nbformat": 4,
 "nbformat_minor": 5
}
