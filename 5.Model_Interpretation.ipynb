{
 "cells": [
  {
   "cell_type": "code",
   "execution_count": null,
   "id": "00670e72",
   "metadata": {},
   "outputs": [],
   "source": [
    "import numpy as np\n",
    "import pandas as pd\n",
    "from pathlib import Path\n",
    "import joblib\n",
    "import shap\n",
    "import matplotlib.pyplot as plt\n",
    "from tensorflow.keras.models import load_model\n",
    "\n",
    "# Directories\n",
    "FEATURES_DIR = Path(\"features\")\n",
    "BASELINE_MODEL_DIR = Path(\"models\")\n",
    "DL_MODEL_DIR = Path(\"models/deep_learning\")\n",
    "\n",
    "# Load features and labels\n",
    "X = pd.read_pickle(FEATURES_DIR / \"X_features.pkl\")\n",
    "y = pd.read_pickle(FEATURES_DIR / \"y_labels.pkl\")\n",
    "\n",
    "# --- Baseline Model Interpretation (Random Forest + SHAP) ---\n",
    "rf_model = joblib.load(BASELINE_MODEL_DIR / \"baseline_rf_model.pkl\")\n",
    "explainer = shap.TreeExplainer(rf_model)\n",
    "shap_values = explainer.shap_values(X)\n",
    "\n",
    "# Plot SHAP summary for top class\n",
    "plt.figure(figsize=(12,6))\n",
    "shap.summary_plot(shap_values, X, plot_type=\"bar\", show=False)\n",
    "plt.title(\"Random Forest Feature Importance (SHAP)\")\n",
    "plt.tight_layout()\n",
    "plt.show()\n",
    "\n",
    "# --- Deep Learning Interpretation (ResNet1D) ---\n",
    "resnet_model = load_model(DL_MODEL_DIR / \"resnet1d_model.h5\")\n",
    "# Using DeepExplainer on a small sample due to compute\n",
    "sample_idx = np.random.choice(len(X), 500, replace=False)\n",
    "X_sample = X.iloc[sample_idx].values\n",
    "X_sample_reshaped = np.expand_dims(X_sample, axis=-1)\n",
    "\n",
    "dl_explainer = shap.DeepExplainer(resnet_model, X_sample_reshaped)\n",
    "shap_values_dl = dl_explainer.shap_values(X_sample_reshaped)\n",
    "\n",
    "# SHAP summary for the first output class\n",
    "plt.figure(figsize=(12,6))\n",
    "shap.summary_plot(shap_values_dl[0], X_sample, plot_type=\"bar\", show=False)\n",
    "plt.title(\"ResNet1D Feature Importance (SHAP)\")\n",
    "plt.tight_layout()\n",
    "plt.show()\n"
   ]
  }
 ],
 "metadata": {
  "kernelspec": {
   "display_name": "Python 3",
   "language": "python",
   "name": "python3"
  },
  "language_info": {
   "codemirror_mode": {
    "name": "ipython",
    "version": 3
   },
   "file_extension": ".py",
   "mimetype": "text/x-python",
   "name": "python",
   "nbconvert_exporter": "python",
   "pygments_lexer": "ipython3",
   "version": "3.11.8"
  }
 },
 "nbformat": 4,
 "nbformat_minor": 5
}
