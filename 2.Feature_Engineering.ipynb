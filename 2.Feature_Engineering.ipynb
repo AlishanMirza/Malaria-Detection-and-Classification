{
 "cells": [
  {
   "cell_type": "code",
   "execution_count": 7,
   "id": "a6019b11",
   "metadata": {},
   "outputs": [
    {
     "name": "stdout",
     "output_type": "stream",
     "text": [
      "Loaded clean data. Shape: (57293, 2386)\n"
     ]
    }
   ],
   "source": [
    "import pandas as pd\n",
    "import numpy as np\n",
    "from pathlib import Path\n",
    "import hashlib\n",
    "\n",
    "# Directories\n",
    "PROCESSED_DIR = Path(\"processed\")\n",
    "FEATURES_DIR = Path(\"features\")\n",
    "FEATURES_DIR.mkdir(parents=True, exist_ok=True)\n",
    "\n",
    "# Input / Output files\n",
    "INPUT_FILE = PROCESSED_DIR / \"clean_bodmas.pkl\"\n",
    "OUTPUT_FILE_X = FEATURES_DIR / \"X_features.pkl\"\n",
    "OUTPUT_FILE_Y = FEATURES_DIR / \"y_labels.pkl\"\n",
    "\n",
    "# Load processed dataset\n",
    "df = pd.read_pickle(INPUT_FILE)\n",
    "print(f\"Loaded clean data. Shape: {df.shape}\")\n",
    "\n",
    "\n"
   ]
  },
  {
   "cell_type": "code",
   "execution_count": 8,
   "id": "a0215a2c",
   "metadata": {},
   "outputs": [],
   "source": [
    "# === Feature Engineering ===\n",
    "def create_novel_features(df):\n",
    "    \"\"\"\n",
    "    Adds new behavioral features for malware classification.\n",
    "    \"\"\"\n",
    "    epsilon = 1e-6  # avoid division by zero\n",
    "\n",
    "    # API success ratio example (feature_10 / (feature_10 + feature_11))\n",
    "    if 'feature_10' in df.columns and 'feature_11' in df.columns:\n",
    "        df['api_success_ratio'] = df['feature_10'] / (df['feature_10'] + df['feature_11'] + epsilon)\n",
    "\n",
    "    # Behavior hash from features 20-39\n",
    "    behavior_cols = [f'feature_{i}' for i in range(20, 40) if f'feature_{i}' in df.columns]\n",
    "    if behavior_cols:\n",
    "        df['behavior_hash'] = df[behavior_cols].apply(\n",
    "            lambda row: hashlib.sha256(row.to_numpy().tobytes()).hexdigest(), axis=1\n",
    "        )\n",
    "        # Convert to categorical numeric code\n",
    "        df['behavior_hash_cat'] = df['behavior_hash'].astype('category').cat.codes\n",
    "\n",
    "    return df\n",
    "\n"
   ]
  },
  {
   "cell_type": "code",
   "execution_count": 9,
   "id": "cb61e71b",
   "metadata": {},
   "outputs": [
    {
     "name": "stdout",
     "output_type": "stream",
     "text": [
      "Feature engineering completed.\n"
     ]
    }
   ],
   "source": [
    "# Apply feature engineering\n",
    "df = create_novel_features(df)\n",
    "print(\"Feature engineering completed.\")\n",
    "\n",
    "# === Prepare Feature Matrix and Labels ===\n",
    "original_features = [c for c in df.columns if 'feature_' in c]\n",
    "numeric_features = [c for c in ['api_success_ratio'] if c in df.columns]\n",
    "categorical_features = [c for c in ['behavior_hash_cat'] if c in df.columns]\n",
    "\n",
    "X = df[original_features + numeric_features + categorical_features]\n",
    "\n"
   ]
  },
  {
   "cell_type": "code",
   "execution_count": 10,
   "id": "cb5f723f",
   "metadata": {},
   "outputs": [
    {
     "name": "stdout",
     "output_type": "stream",
     "text": [
      "Feature matrix X saved: features\\X_features.pkl\n",
      "Target labels y saved: features\\y_labels.pkl\n",
      "X shape: (57293, 2383), y shape: (57293,)\n"
     ]
    }
   ],
   "source": [
    "# Make sure target exists\n",
    "target_col = 'category'\n",
    "if target_col not in df.columns:\n",
    "    raise KeyError(f\"Target column '{target_col}' not found in DataFrame.\")\n",
    "y = df[target_col]\n",
    "\n",
    "# Save features and labels\n",
    "X.to_pickle(OUTPUT_FILE_X)\n",
    "y.to_pickle(OUTPUT_FILE_Y)\n",
    "\n",
    "print(f\"Feature matrix X saved: {OUTPUT_FILE_X}\")\n",
    "print(f\"Target labels y saved: {OUTPUT_FILE_Y}\")\n",
    "print(f\"X shape: {X.shape}, y shape: {y.shape}\")"
   ]
  }
 ],
 "metadata": {
  "kernelspec": {
   "display_name": "Python 3",
   "language": "python",
   "name": "python3"
  },
  "language_info": {
   "codemirror_mode": {
    "name": "ipython",
    "version": 3
   },
   "file_extension": ".py",
   "mimetype": "text/x-python",
   "name": "python",
   "nbconvert_exporter": "python",
   "pygments_lexer": "ipython3",
   "version": "3.11.8"
  }
 },
 "nbformat": 4,
 "nbformat_minor": 5
}
